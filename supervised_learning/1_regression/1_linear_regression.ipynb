{
 "cells": [
  {
   "cell_type": "code",
   "id": "initial_id",
   "metadata": {
    "collapsed": true,
    "ExecuteTime": {
     "end_time": "2024-10-14T19:43:47.897089Z",
     "start_time": "2024-10-14T19:43:47.828347Z"
    }
   },
   "source": [
    "import numpy as np\n",
    "import matplotlib.pyplot as plt\n",
    "import pandas as pd\n",
    "import requests"
   ],
   "outputs": [],
   "execution_count": 3
  },
  {
   "metadata": {
    "ExecuteTime": {
     "end_time": "2024-10-14T19:40:12.225002Z",
     "start_time": "2024-10-14T19:40:12.220635Z"
    }
   },
   "cell_type": "code",
   "source": [
    "np.random.seed(72018)\n",
    "\n",
    "def to_2d(array):\n",
    "    return array.reshape(array.shape[0], -1)\n",
    "    \n",
    "def plot_exponential_data():\n",
    "    data = np.exp(np.random.normal(size=1000))\n",
    "    plt.hist(data)\n",
    "    plt.show()\n",
    "    return data\n",
    "    \n",
    "def plot_square_normal_data():\n",
    "    data = np.square(np.random.normal(loc=5, size=1000))\n",
    "    plt.hist(data)\n",
    "    plt.show()\n",
    "    return data"
   ],
   "id": "d82261556a189ea4",
   "outputs": [],
   "execution_count": 2
  },
  {
   "metadata": {
    "ExecuteTime": {
     "end_time": "2024-10-14T19:45:17.718850Z",
     "start_time": "2024-10-14T19:45:17.709187Z"
    }
   },
   "cell_type": "code",
   "source": [
    "with open('../data/boston_housing_clean.pickle', 'rb') as to_read:\n",
    "    boston = pd.read_pickle(to_read)\n",
    "boston_data = boston['dataframe']\n",
    "boston_description = boston['description']"
   ],
   "id": "3bc3e08ca82f24",
   "outputs": [],
   "execution_count": 5
  },
  {
   "metadata": {
    "ExecuteTime": {
     "end_time": "2024-10-14T19:45:24.729735Z",
     "start_time": "2024-10-14T19:45:24.715911Z"
    }
   },
   "cell_type": "code",
   "source": "boston_data.head()",
   "id": "b75d4eb16885261a",
   "outputs": [
    {
     "data": {
      "text/plain": [
       "      CRIM    ZN  INDUS  CHAS    NOX     RM   AGE     DIS  RAD    TAX  \\\n",
       "0  0.00632  18.0   2.31   0.0  0.538  6.575  65.2  4.0900  1.0  296.0   \n",
       "1  0.02731   0.0   7.07   0.0  0.469  6.421  78.9  4.9671  2.0  242.0   \n",
       "2  0.02729   0.0   7.07   0.0  0.469  7.185  61.1  4.9671  2.0  242.0   \n",
       "3  0.03237   0.0   2.18   0.0  0.458  6.998  45.8  6.0622  3.0  222.0   \n",
       "4  0.06905   0.0   2.18   0.0  0.458  7.147  54.2  6.0622  3.0  222.0   \n",
       "\n",
       "   PTRATIO       B  LSTAT  MEDV  \n",
       "0     15.3  396.90   4.98  24.0  \n",
       "1     17.8  396.90   9.14  21.6  \n",
       "2     17.8  392.83   4.03  34.7  \n",
       "3     18.7  394.63   2.94  33.4  \n",
       "4     18.7  396.90   5.33  36.2  "
      ],
      "text/html": [
       "<div>\n",
       "<style scoped>\n",
       "    .dataframe tbody tr th:only-of-type {\n",
       "        vertical-align: middle;\n",
       "    }\n",
       "\n",
       "    .dataframe tbody tr th {\n",
       "        vertical-align: top;\n",
       "    }\n",
       "\n",
       "    .dataframe thead th {\n",
       "        text-align: right;\n",
       "    }\n",
       "</style>\n",
       "<table border=\"1\" class=\"dataframe\">\n",
       "  <thead>\n",
       "    <tr style=\"text-align: right;\">\n",
       "      <th></th>\n",
       "      <th>CRIM</th>\n",
       "      <th>ZN</th>\n",
       "      <th>INDUS</th>\n",
       "      <th>CHAS</th>\n",
       "      <th>NOX</th>\n",
       "      <th>RM</th>\n",
       "      <th>AGE</th>\n",
       "      <th>DIS</th>\n",
       "      <th>RAD</th>\n",
       "      <th>TAX</th>\n",
       "      <th>PTRATIO</th>\n",
       "      <th>B</th>\n",
       "      <th>LSTAT</th>\n",
       "      <th>MEDV</th>\n",
       "    </tr>\n",
       "  </thead>\n",
       "  <tbody>\n",
       "    <tr>\n",
       "      <th>0</th>\n",
       "      <td>0.00632</td>\n",
       "      <td>18.0</td>\n",
       "      <td>2.31</td>\n",
       "      <td>0.0</td>\n",
       "      <td>0.538</td>\n",
       "      <td>6.575</td>\n",
       "      <td>65.2</td>\n",
       "      <td>4.0900</td>\n",
       "      <td>1.0</td>\n",
       "      <td>296.0</td>\n",
       "      <td>15.3</td>\n",
       "      <td>396.90</td>\n",
       "      <td>4.98</td>\n",
       "      <td>24.0</td>\n",
       "    </tr>\n",
       "    <tr>\n",
       "      <th>1</th>\n",
       "      <td>0.02731</td>\n",
       "      <td>0.0</td>\n",
       "      <td>7.07</td>\n",
       "      <td>0.0</td>\n",
       "      <td>0.469</td>\n",
       "      <td>6.421</td>\n",
       "      <td>78.9</td>\n",
       "      <td>4.9671</td>\n",
       "      <td>2.0</td>\n",
       "      <td>242.0</td>\n",
       "      <td>17.8</td>\n",
       "      <td>396.90</td>\n",
       "      <td>9.14</td>\n",
       "      <td>21.6</td>\n",
       "    </tr>\n",
       "    <tr>\n",
       "      <th>2</th>\n",
       "      <td>0.02729</td>\n",
       "      <td>0.0</td>\n",
       "      <td>7.07</td>\n",
       "      <td>0.0</td>\n",
       "      <td>0.469</td>\n",
       "      <td>7.185</td>\n",
       "      <td>61.1</td>\n",
       "      <td>4.9671</td>\n",
       "      <td>2.0</td>\n",
       "      <td>242.0</td>\n",
       "      <td>17.8</td>\n",
       "      <td>392.83</td>\n",
       "      <td>4.03</td>\n",
       "      <td>34.7</td>\n",
       "    </tr>\n",
       "    <tr>\n",
       "      <th>3</th>\n",
       "      <td>0.03237</td>\n",
       "      <td>0.0</td>\n",
       "      <td>2.18</td>\n",
       "      <td>0.0</td>\n",
       "      <td>0.458</td>\n",
       "      <td>6.998</td>\n",
       "      <td>45.8</td>\n",
       "      <td>6.0622</td>\n",
       "      <td>3.0</td>\n",
       "      <td>222.0</td>\n",
       "      <td>18.7</td>\n",
       "      <td>394.63</td>\n",
       "      <td>2.94</td>\n",
       "      <td>33.4</td>\n",
       "    </tr>\n",
       "    <tr>\n",
       "      <th>4</th>\n",
       "      <td>0.06905</td>\n",
       "      <td>0.0</td>\n",
       "      <td>2.18</td>\n",
       "      <td>0.0</td>\n",
       "      <td>0.458</td>\n",
       "      <td>7.147</td>\n",
       "      <td>54.2</td>\n",
       "      <td>6.0622</td>\n",
       "      <td>3.0</td>\n",
       "      <td>222.0</td>\n",
       "      <td>18.7</td>\n",
       "      <td>396.90</td>\n",
       "      <td>5.33</td>\n",
       "      <td>36.2</td>\n",
       "    </tr>\n",
       "  </tbody>\n",
       "</table>\n",
       "</div>"
      ]
     },
     "execution_count": 6,
     "metadata": {},
     "output_type": "execute_result"
    }
   ],
   "execution_count": 6
  },
  {
   "metadata": {
    "ExecuteTime": {
     "end_time": "2024-10-14T19:48:58.379013Z",
     "start_time": "2024-10-14T19:48:58.371038Z"
    }
   },
   "cell_type": "code",
   "source": "boston_data.info()",
   "id": "7df8dd618ed99f42",
   "outputs": [
    {
     "name": "stdout",
     "output_type": "stream",
     "text": [
      "<class 'pandas.core.frame.DataFrame'>\n",
      "RangeIndex: 506 entries, 0 to 505\n",
      "Data columns (total 14 columns):\n",
      " #   Column   Non-Null Count  Dtype  \n",
      "---  ------   --------------  -----  \n",
      " 0   CRIM     506 non-null    float64\n",
      " 1   ZN       506 non-null    float64\n",
      " 2   INDUS    506 non-null    float64\n",
      " 3   CHAS     506 non-null    float64\n",
      " 4   NOX      506 non-null    float64\n",
      " 5   RM       506 non-null    float64\n",
      " 6   AGE      506 non-null    float64\n",
      " 7   DIS      506 non-null    float64\n",
      " 8   RAD      506 non-null    float64\n",
      " 9   TAX      506 non-null    float64\n",
      " 10  PTRATIO  506 non-null    float64\n",
      " 11  B        506 non-null    float64\n",
      " 12  LSTAT    506 non-null    float64\n",
      " 13  MEDV     506 non-null    float64\n",
      "dtypes: float64(14)\n",
      "memory usage: 55.5 KB\n"
     ]
    }
   ],
   "execution_count": 10
  },
  {
   "metadata": {
    "ExecuteTime": {
     "end_time": "2024-10-14T19:50:55.879979Z",
     "start_time": "2024-10-14T19:50:55.873626Z"
    }
   },
   "cell_type": "code",
   "source": "boston_data.MEDV.describe()",
   "id": "f929daee120ab4f4",
   "outputs": [
    {
     "data": {
      "text/plain": [
       "count    506.000000\n",
       "mean      22.532806\n",
       "std        9.197104\n",
       "min        5.000000\n",
       "25%       17.025000\n",
       "50%       21.200000\n",
       "75%       25.000000\n",
       "max       50.000000\n",
       "Name: MEDV, dtype: float64"
      ]
     },
     "execution_count": 11,
     "metadata": {},
     "output_type": "execute_result"
    }
   ],
   "execution_count": 11
  },
  {
   "metadata": {
    "ExecuteTime": {
     "end_time": "2024-10-14T19:47:30.072649Z",
     "start_time": "2024-10-14T19:47:29.706663Z"
    }
   },
   "cell_type": "code",
   "source": [
    "# Generate histogram for MEDV column\n",
    "boston_data.MEDV.hist()"
   ],
   "id": "8c7332b6993becc3",
   "outputs": [
    {
     "data": {
      "text/plain": [
       "<Axes: >"
      ]
     },
     "execution_count": 8,
     "metadata": {},
     "output_type": "execute_result"
    },
    {
     "data": {
      "text/plain": [
       "<Figure size 640x480 with 1 Axes>"
      ],
      "image/png": "[encoded data removed]"
     },
     "metadata": {},
     "output_type": "display_data"
    }
   ],
   "execution_count": 8
  },
  {
   "metadata": {
    "ExecuteTime": {
     "end_time": "2024-10-14T19:47:54.088813Z",
     "start_time": "2024-10-14T19:47:54.085446Z"
    }
   },
   "cell_type": "code",
   "source": "boston_data.MEDV.skew()",
   "id": "ca077bd6899775ef",
   "outputs": [
    {
     "data": {
      "text/plain": [
       "np.float64(1.1080984082549072)"
      ]
     },
     "execution_count": 9,
     "metadata": {},
     "output_type": "execute_result"
    }
   ],
   "execution_count": 9
  },
  {
   "metadata": {
    "ExecuteTime": {
     "end_time": "2024-10-14T19:56:37.079702Z",
     "start_time": "2024-10-14T19:56:37.068936Z"
    }
   },
   "cell_type": "code",
   "source": [
    "# Using statistical test to check for normality\n",
    "from scipy.stats.mstats import normaltest\n",
    "normaltest(boston_data.MEDV.values)\n",
    "\n",
    "#pvalue"
   ],
   "id": "9525ccf0be4b7944",
   "outputs": [
    {
     "data": {
      "text/plain": [
       "NormaltestResult(statistic=np.float64(90.9746873700967), pvalue=np.float64(1.7583188871696095e-20))"
      ]
     },
     "execution_count": 19,
     "metadata": {},
     "output_type": "execute_result"
    }
   ],
   "execution_count": 19
  },
  {
   "metadata": {
    "ExecuteTime": {
     "end_time": "2024-10-14T20:26:49.435872Z",
     "start_time": "2024-10-14T20:26:49.288484Z"
    }
   },
   "cell_type": "code",
   "source": [
    "import seaborn as sns\n",
    "\n",
    "log_medv = np.log(boston_data.MEDV)\n",
    "print(f\"Skewness of log-transformed MEDV: {normaltest(log_medv)}\")\n",
    "\n",
    "log_medv.hist()"
   ],
   "id": "f857f5e677fab449",
   "outputs": [
    {
     "name": "stdout",
     "output_type": "stream",
     "text": [
      "Skewness of log-transformed MEDV: NormaltestResult(statistic=np.float64(17.21801696640698), pvalue=np.float64(0.00018245472768345196))\n"
     ]
    },
    {
     "data": {
      "text/plain": [
       "<Axes: >"
      ]
     },
     "execution_count": 23,
     "metadata": {},
     "output_type": "execute_result"
    },
    {
     "data": {
      "text/plain": [
       "<Figure size 640x480 with 1 Axes>"
      ],
      "image/png": "[encoded data removed]"
     },
     "metadata": {},
     "output_type": "display_data"
    }
   ],
   "execution_count": 23
  },
  {
   "metadata": {},
   "cell_type": "markdown",
   "source": [
    "# The output is closer to normal distribution than the original data but still not completely normal\n",
    "## Using square root transformation"
   ],
   "id": "e1d6c9f59f2f76f6"
  },
  {
   "metadata": {
    "ExecuteTime": {
     "end_time": "2024-10-14T20:29:04.291421Z",
     "start_time": "2024-10-14T20:29:04.229488Z"
    }
   },
   "cell_type": "code",
   "source": "data = plot_square_normal_data()",
   "id": "f141b0497f38e2f9",
   "outputs": [
    {
     "data": {
      "text/plain": [
       "<Figure size 640x480 with 1 Axes>"
      ],
      "image/png": "[encoded data removed]"
     },
     "metadata": {},
     "output_type": "display_data"
    }
   ],
   "execution_count": 25
  },
  {
   "metadata": {
    "ExecuteTime": {
     "end_time": "2024-10-14T20:29:17.895418Z",
     "start_time": "2024-10-14T20:29:17.822885Z"
    }
   },
   "cell_type": "code",
   "source": "plt.hist(np.sqrt(data));",
   "id": "9550c3a09e661bdc",
   "outputs": [
    {
     "data": {
      "text/plain": [
       "<Figure size 640x480 with 1 Axes>"
      ],
      "image/png": "[encoded data removed]"
     },
     "metadata": {},
     "output_type": "display_data"
    }
   ],
   "execution_count": 26
  },
  {
   "metadata": {
    "ExecuteTime": {
     "end_time": "2024-10-14T20:30:25.655980Z",
     "start_time": "2024-10-14T20:30:25.651118Z"
    }
   },
   "cell_type": "code",
   "source": [
    "# Using square root transformation\n",
    "sqrt_medv = np.sqrt(boston_data.MEDV)\n",
    "print(f\"Skewness of sqrt-transformed MEDV: {normaltest(sqrt_medv)}\")"
   ],
   "id": "b3e8a4a88a124d5b",
   "outputs": [
    {
     "name": "stdout",
     "output_type": "stream",
     "text": [
      "Skewness of sqrt-transformed MEDV: NormaltestResult(statistic=np.float64(20.487090826863067), pvalue=np.float64(3.558645701429252e-05))\n"
     ]
    }
   ],
   "execution_count": 27
  },
  {
   "metadata": {
    "ExecuteTime": {
     "end_time": "2024-10-14T20:30:35.160136Z",
     "start_time": "2024-10-14T20:30:35.078650Z"
    }
   },
   "cell_type": "code",
   "source": "sqrt_medv.hist()",
   "id": "58f2147f34831d26",
   "outputs": [
    {
     "data": {
      "text/plain": [
       "<Axes: >"
      ]
     },
     "execution_count": 28,
     "metadata": {},
     "output_type": "execute_result"
    },
    {
     "data": {
      "text/plain": [
       "<Figure size 640x480 with 1 Axes>"
      ],
      "image/png": "[encoded data removed]"
     },
     "metadata": {},
     "output_type": "display_data"
    }
   ],
   "execution_count": 28
  },
  {
   "metadata": {
    "ExecuteTime": {
     "end_time": "2024-10-14T20:30:45.545337Z",
     "start_time": "2024-10-14T20:30:45.540592Z"
    }
   },
   "cell_type": "code",
   "source": "normaltest(sqrt_medv)",
   "id": "34d3eeaebb51c3ca",
   "outputs": [
    {
     "data": {
      "text/plain": [
       "NormaltestResult(statistic=np.float64(20.487090826863067), pvalue=np.float64(3.558645701429252e-05))"
      ]
     },
     "execution_count": 29,
     "metadata": {},
     "output_type": "execute_result"
    }
   ],
   "execution_count": 29
  },
  {
   "metadata": {},
   "cell_type": "markdown",
   "source": [
    "### Box cox Transformation\n",
    "The box cox transformation is a parametrized transformation that tries to get distributions \"as close to a normal distribution as possible\".\n",
    "\n",
    "It is defined as:\n",
    "\n",
    "$$ \\text{boxcox}(y_i) = \\frac{y_i^{\\lambda} - 1}{\\lambda} $$\n",
    "\n",
    "You can think of as a generalization of the square root function: the square root function uses the exponent of 0.5, but box cox lets its exponent vary so it can find the best one.\n"
   ],
   "id": "e7b46520028b6f67"
  },
  {
   "metadata": {
    "ExecuteTime": {
     "end_time": "2024-10-14T22:51:26.088032Z",
     "start_time": "2024-10-14T22:51:26.081667Z"
    }
   },
   "cell_type": "code",
   "source": [
    "from scipy.stats import boxcox\n",
    "\n",
    "bc_result = boxcox(boston_data.MEDV)\n",
    "boxcox_medv = bc_result[0]\n",
    "lam = bc_result[1]"
   ],
   "id": "abad8f748766b00a",
   "outputs": [],
   "execution_count": 50
  },
  {
   "metadata": {
    "ExecuteTime": {
     "end_time": "2024-10-14T22:51:31.352962Z",
     "start_time": "2024-10-14T22:51:31.347409Z"
    }
   },
   "cell_type": "code",
   "source": "lam",
   "id": "76fdd1b97c45b0eb",
   "outputs": [
    {
     "data": {
      "text/plain": [
       "np.float64(0.21662090066621686)"
      ]
     },
     "execution_count": 51,
     "metadata": {},
     "output_type": "execute_result"
    }
   ],
   "execution_count": 51
  },
  {
   "metadata": {
    "ExecuteTime": {
     "end_time": "2024-10-14T20:33:34.207260Z",
     "start_time": "2024-10-14T20:33:34.143804Z"
    }
   },
   "cell_type": "code",
   "source": "plt.hist(boxcox_medv);",
   "id": "5f69e765d9cc5fab",
   "outputs": [
    {
     "data": {
      "text/plain": [
       "<Figure size 640x480 with 1 Axes>"
      ],
      "image/png": "[encoded data removed]"
     },
     "metadata": {},
     "output_type": "display_data"
    }
   ],
   "execution_count": 31
  },
  {
   "metadata": {
    "ExecuteTime": {
     "end_time": "2024-10-14T20:33:43.041764Z",
     "start_time": "2024-10-14T20:33:43.036069Z"
    }
   },
   "cell_type": "code",
   "source": "normaltest(boxcox_medv)",
   "id": "f4e0d83f65de3182",
   "outputs": [
    {
     "data": {
      "text/plain": [
       "NormaltestResult(statistic=np.float64(4.513528777459215), pvalue=np.float64(0.10468866918093607))"
      ]
     },
     "execution_count": 32,
     "metadata": {},
     "output_type": "execute_result"
    }
   ],
   "execution_count": 32
  },
  {
   "metadata": {},
   "cell_type": "markdown",
   "source": "# Regression",
   "id": "1211323f3fda5f14"
  },
  {
   "metadata": {
    "ExecuteTime": {
     "end_time": "2024-10-14T20:45:52.967015Z",
     "start_time": "2024-10-14T20:45:52.484491Z"
    }
   },
   "cell_type": "code",
   "source": [
    "from sklearn.linear_model import LinearRegression\n",
    "from sklearn.metrics import r2_score\n",
    "from sklearn.model_selection import train_test_split\n",
    "from sklearn.preprocessing import (StandardScaler, \n",
    "                                   PolynomialFeatures)"
   ],
   "id": "70fd5b77c05ec9dc",
   "outputs": [],
   "execution_count": 33
  },
  {
   "metadata": {
    "ExecuteTime": {
     "end_time": "2024-10-14T20:46:15.459211Z",
     "start_time": "2024-10-14T20:46:15.456693Z"
    }
   },
   "cell_type": "code",
   "source": "lr = LinearRegression()",
   "id": "bdcead35bd1ed120",
   "outputs": [],
   "execution_count": 34
  },
  {
   "metadata": {
    "ExecuteTime": {
     "end_time": "2024-10-14T20:47:17.078770Z",
     "start_time": "2024-10-14T20:47:17.074398Z"
    }
   },
   "cell_type": "code",
   "source": [
    "# target column\n",
    "y_col = \"MEDV\"\n",
    "\n",
    "# X: input data -> remove target column\n",
    "X = boston_data.drop(y_col, axis=1)\n",
    "# Y: target column only\n",
    "y = boston_data[y_col]"
   ],
   "id": "cc8aa28d235dc379",
   "outputs": [],
   "execution_count": 36
  },
  {
   "metadata": {
    "ExecuteTime": {
     "end_time": "2024-10-14T20:47:44.883948Z",
     "start_time": "2024-10-14T20:47:44.878084Z"
    }
   },
   "cell_type": "code",
   "source": [
    "# Create Polynomial Features\n",
    "pf = PolynomialFeatures(degree=2, include_bias=False)\n",
    "X_pf = pf.fit_transform(X)"
   ],
   "id": "eeddbcad9d3bfd8d",
   "outputs": [],
   "execution_count": 37
  },
  {
   "metadata": {
    "ExecuteTime": {
     "end_time": "2024-10-14T20:49:52.433406Z",
     "start_time": "2024-10-14T20:49:52.428582Z"
    }
   },
   "cell_type": "code",
   "source": [
    "#Split training and test data - 70/30 split\n",
    "X_train, X_test, y_train, y_test = train_test_split(X_pf, y, test_size=0.3, \n",
    "                                                    random_state=72018)"
   ],
   "id": "b4fb2475e0820a55",
   "outputs": [],
   "execution_count": 38
  },
  {
   "metadata": {
    "ExecuteTime": {
     "end_time": "2024-10-14T22:29:07.612299Z",
     "start_time": "2024-10-14T22:29:07.603661Z"
    }
   },
   "cell_type": "code",
   "source": [
    "# Normalize the data\n",
    "s = StandardScaler()\n",
    "X_train_s = s.fit_transform(X_train)"
   ],
   "id": "90161c4c554acea5",
   "outputs": [],
   "execution_count": 39
  },
  {
   "metadata": {
    "ExecuteTime": {
     "end_time": "2024-10-14T22:30:30.593809Z",
     "start_time": "2024-10-14T22:30:30.587385Z"
    }
   },
   "cell_type": "code",
   "source": [
    "bc_result = boxcox(y_train)\n",
    "y_train_bc, lambda_val = bc_result"
   ],
   "id": "2d80da4b856b366a",
   "outputs": [],
   "execution_count": 40
  },
  {
   "metadata": {
    "ExecuteTime": {
     "end_time": "2024-10-14T22:30:47.099401Z",
     "start_time": "2024-10-14T22:30:47.095989Z"
    }
   },
   "cell_type": "code",
   "source": "y_train_bc.shape",
   "id": "b15ba2e697a2523",
   "outputs": [
    {
     "data": {
      "text/plain": [
       "(354,)"
      ]
     },
     "execution_count": 42,
     "metadata": {},
     "output_type": "execute_result"
    }
   ],
   "execution_count": 42
  },
  {
   "metadata": {},
   "cell_type": "markdown",
   "source": [
    "# Boxcox transformation\n",
    "`bc_result2 = boxcox(y_train)` returns a tuple, where the first element is the transformed data and the second element is the lambda value. The lambda value is the transformation parameter that the Box-Cox function optimizes to best transform the data.\n",
    "\n",
    "`y_train_bc = bc_result2[0]` takes the transformed data (first value of the tuple returned above) and assigns it to `y_train_bc`.\n",
    "\n",
    "`lam2 = bc_result2[1]` takes the lambda value (second value of the tuple returned above) and assigns it to `lam2`."
   ],
   "id": "2f200b2c0ac17abe"
  },
  {
   "metadata": {
    "ExecuteTime": {
     "end_time": "2024-10-14T22:47:10.177258Z",
     "start_time": "2024-10-14T22:47:10.167157Z"
    }
   },
   "cell_type": "code",
   "source": [
    "bc_result2 = boxcox(y_train)\n",
    "y_train_bc = bc_result2[0]\n",
    "lam2 = bc_result2[1]"
   ],
   "id": "dffc47d20995e17f",
   "outputs": [],
   "execution_count": 49
  },
  {
   "metadata": {
    "ExecuteTime": {
     "end_time": "2024-10-14T22:37:33.781956Z",
     "start_time": "2024-10-14T22:37:33.778959Z"
    }
   },
   "cell_type": "code",
   "source": "y_train_bc.shape",
   "id": "83803ad51dc79cd6",
   "outputs": [
    {
     "data": {
      "text/plain": [
       "(354,)"
      ]
     },
     "execution_count": 46,
     "metadata": {},
     "output_type": "execute_result"
    }
   ],
   "execution_count": 46
  },
  {
   "metadata": {
    "ExecuteTime": {
     "end_time": "2024-10-14T22:38:31.684500Z",
     "start_time": "2024-10-14T22:38:31.610539Z"
    }
   },
   "cell_type": "code",
   "source": [
    "# train the model\n",
    "lr.fit(X_train_s, y_train_bc)\n",
    "X_test_s = s.transform(X_test)\n",
    "y_pred_bc = lr.predict(X_test_s)\n",
    "\n",
    "# Coefficient of determination\n",
    "# Is very low because we're taking the transformed values\n",
    "# and comparing them with the untransformed values\n",
    "print(f\"R^2 score: {r2_score(y_test, y_pred_bc)}\")"
   ],
   "id": "92b07a7869302b9e",
   "outputs": [
    {
     "name": "stdout",
     "output_type": "stream",
     "text": [
      "R^2 score: -3.217600957495855\n"
     ]
    }
   ],
   "execution_count": 48
  },
  {
   "metadata": {},
   "cell_type": "markdown",
   "source": [
    "# Apply inverse transformations to be able to use these in a Regression context\n",
    "Every transformation has an inverse transformation. The inverse transformation of $f(x) = \\sqrt{x}$ is $f^{-1}(x) = x^2$, for example. Box cox has an inverse transformation as well: notice that we have to pass in the lambda value that we found from before:\n",
    "\n",
    "The Box-Cox transformation changes the scale and distribution of the data. When you transform the target variable (y_train or any other target data like MEDV in the Boston dataset) using the Box-Cox transformation, the predicted values from your model are also on this transformed scale. To interpret and compare these predictions against the original, untransformed values, you must reverse the transformation."
   ],
   "id": "cfe6325f5e041583"
  },
  {
   "metadata": {
    "ExecuteTime": {
     "end_time": "2024-10-14T22:51:44.702618Z",
     "start_time": "2024-10-14T22:51:44.696752Z"
    }
   },
   "cell_type": "code",
   "source": [
    "from scipy.special import inv_boxcox\n",
    "inv_boxcox(boxcox_medv, lam)[:10]"
   ],
   "id": "bc0855975e4ac9f7",
   "outputs": [
    {
     "data": {
      "text/plain": [
       "array([24. , 21.6, 34.7, 33.4, 36.2, 28.7, 22.9, 27.1, 16.5, 18.9])"
      ]
     },
     "execution_count": 53,
     "metadata": {},
     "output_type": "execute_result"
    }
   ],
   "execution_count": 53
  },
  {
   "metadata": {
    "ExecuteTime": {
     "end_time": "2024-10-14T22:51:46.097830Z",
     "start_time": "2024-10-14T22:51:46.094120Z"
    }
   },
   "cell_type": "code",
   "source": "boston_data['MEDV'].values[:10]",
   "id": "6c800287f746484d",
   "outputs": [
    {
     "data": {
      "text/plain": [
       "array([24. , 21.6, 34.7, 33.4, 36.2, 28.7, 22.9, 27.1, 16.5, 18.9])"
      ]
     },
     "execution_count": 54,
     "metadata": {},
     "output_type": "execute_result"
    }
   ],
   "execution_count": 54
  },
  {
   "metadata": {},
   "cell_type": "markdown",
   "source": [
    "## Inverse transformation result\n",
    "The values are the same for `inv_boxcox(boxcox_medv, lam)[:10]` and `boston_data['MEDV'].values[:10]`. This means that the inverse transformation is working correctly."
   ],
   "id": "d703e0d08abcde6c"
  },
  {
   "metadata": {},
   "cell_type": "markdown",
   "source": [
    "## Predicting without transforming the data\n",
    "We won't use any other transformation than the standard scaler for the input data. We will use the original target data to train the model and predict the target values."
   ],
   "id": "b34c6d9af3275d33"
  },
  {
   "metadata": {
    "ExecuteTime": {
     "end_time": "2024-10-14T23:08:37.387779Z",
     "start_time": "2024-10-14T23:08:37.299624Z"
    }
   },
   "cell_type": "code",
   "source": [
    "lr.fit(X_train_s, y_train)\n",
    "X_test_s = s.transform(X_test)\n",
    "y_pred = lr.predict(X_test_s)\n",
    "\n",
    "r2_score(y_test, y_pred)"
   ],
   "id": "fedf07fca22cce2b",
   "outputs": [
    {
     "data": {
      "text/plain": [
       "0.8689110469231047"
      ]
     },
     "execution_count": 55,
     "metadata": {},
     "output_type": "execute_result"
    }
   ],
   "execution_count": 55
  }
 ],
 "metadata": {
  "kernelspec": {
   "display_name": "Python 3",
   "language": "python",
   "name": "python3"
  },
  "language_info": {
   "codemirror_mode": {
    "name": "ipython",
    "version": 2
   },
   "file_extension": ".py",
   "mimetype": "text/x-python",
   "name": "python",
   "nbconvert_exporter": "python",
   "pygments_lexer": "ipython2",
   "version": "2.7.6"
  }
 },
 "nbformat": 4,
 "nbformat_minor": 5
}
