{
 "cells": [
  {
   "cell_type": "code",
   "id": "initial_id",
   "metadata": {
    "collapsed": true,
    "ExecuteTime": {
     "end_time": "2024-11-04T17:15:25.057377Z",
     "start_time": "2024-11-04T17:15:25.055335Z"
    }
   },
   "source": [
    "import numpy as np\n",
    "import pandas as pd\n",
    "import matplotlib.pyplot as plt"
   ],
   "outputs": [],
   "execution_count": 1
  },
  {
   "metadata": {
    "ExecuteTime": {
     "end_time": "2024-11-04T17:15:52.244294Z",
     "start_time": "2024-11-04T17:15:52.239819Z"
    }
   },
   "cell_type": "code",
   "source": [
    "np.random.seed(72018)\n",
    "\n",
    "def to_2d(array):\n",
    "    return array.reshape(array.shape[0], -1)\n",
    "  \n",
    "def plot_exponential_data():\n",
    "    data = np.exp(np.random.normal(size=1000))\n",
    "    plt.hist(data)\n",
    "    plt.show()\n",
    "    return data\n",
    "    \n",
    "def plot_square_normal_data():\n",
    "    data = np.square(np.random.normal(loc=5, size=1000))\n",
    "    plt.hist(data)\n",
    "    plt.show()\n",
    "    return data"
   ],
   "id": "b74830594ca0a57f",
   "outputs": [],
   "execution_count": 2
  },
  {
   "metadata": {
    "ExecuteTime": {
     "end_time": "2024-11-04T17:18:39.651975Z",
     "start_time": "2024-11-04T17:18:39.632857Z"
    }
   },
   "cell_type": "code",
   "source": [
    "boston = pd.read_pickle('../data/boston_housing_clean.pickle')\n",
    "\n",
    "boston_data = boston['dataframe']\n",
    "boston_description = boston['description']\n",
    "\n",
    "boston_data.head()"
   ],
   "id": "b6872f797fdb8d7f",
   "outputs": [
    {
     "data": {
      "text/plain": [
       "      CRIM    ZN  INDUS  CHAS    NOX     RM   AGE     DIS  RAD    TAX  \\\n",
       "0  0.00632  18.0   2.31   0.0  0.538  6.575  65.2  4.0900  1.0  296.0   \n",
       "1  0.02731   0.0   7.07   0.0  0.469  6.421  78.9  4.9671  2.0  242.0   \n",
       "2  0.02729   0.0   7.07   0.0  0.469  7.185  61.1  4.9671  2.0  242.0   \n",
       "3  0.03237   0.0   2.18   0.0  0.458  6.998  45.8  6.0622  3.0  222.0   \n",
       "4  0.06905   0.0   2.18   0.0  0.458  7.147  54.2  6.0622  3.0  222.0   \n",
       "\n",
       "   PTRATIO       B  LSTAT  MEDV  \n",
       "0     15.3  396.90   4.98  24.0  \n",
       "1     17.8  396.90   9.14  21.6  \n",
       "2     17.8  392.83   4.03  34.7  \n",
       "3     18.7  394.63   2.94  33.4  \n",
       "4     18.7  396.90   5.33  36.2  "
      ],
      "text/html": [
       "<div>\n",
       "<style scoped>\n",
       "    .dataframe tbody tr th:only-of-type {\n",
       "        vertical-align: middle;\n",
       "    }\n",
       "\n",
       "    .dataframe tbody tr th {\n",
       "        vertical-align: top;\n",
       "    }\n",
       "\n",
       "    .dataframe thead th {\n",
       "        text-align: right;\n",
       "    }\n",
       "</style>\n",
       "<table border=\"1\" class=\"dataframe\">\n",
       "  <thead>\n",
       "    <tr style=\"text-align: right;\">\n",
       "      <th></th>\n",
       "      <th>CRIM</th>\n",
       "      <th>ZN</th>\n",
       "      <th>INDUS</th>\n",
       "      <th>CHAS</th>\n",
       "      <th>NOX</th>\n",
       "      <th>RM</th>\n",
       "      <th>AGE</th>\n",
       "      <th>DIS</th>\n",
       "      <th>RAD</th>\n",
       "      <th>TAX</th>\n",
       "      <th>PTRATIO</th>\n",
       "      <th>B</th>\n",
       "      <th>LSTAT</th>\n",
       "      <th>MEDV</th>\n",
       "    </tr>\n",
       "  </thead>\n",
       "  <tbody>\n",
       "    <tr>\n",
       "      <th>0</th>\n",
       "      <td>0.00632</td>\n",
       "      <td>18.0</td>\n",
       "      <td>2.31</td>\n",
       "      <td>0.0</td>\n",
       "      <td>0.538</td>\n",
       "      <td>6.575</td>\n",
       "      <td>65.2</td>\n",
       "      <td>4.0900</td>\n",
       "      <td>1.0</td>\n",
       "      <td>296.0</td>\n",
       "      <td>15.3</td>\n",
       "      <td>396.90</td>\n",
       "      <td>4.98</td>\n",
       "      <td>24.0</td>\n",
       "    </tr>\n",
       "    <tr>\n",
       "      <th>1</th>\n",
       "      <td>0.02731</td>\n",
       "      <td>0.0</td>\n",
       "      <td>7.07</td>\n",
       "      <td>0.0</td>\n",
       "      <td>0.469</td>\n",
       "      <td>6.421</td>\n",
       "      <td>78.9</td>\n",
       "      <td>4.9671</td>\n",
       "      <td>2.0</td>\n",
       "      <td>242.0</td>\n",
       "      <td>17.8</td>\n",
       "      <td>396.90</td>\n",
       "      <td>9.14</td>\n",
       "      <td>21.6</td>\n",
       "    </tr>\n",
       "    <tr>\n",
       "      <th>2</th>\n",
       "      <td>0.02729</td>\n",
       "      <td>0.0</td>\n",
       "      <td>7.07</td>\n",
       "      <td>0.0</td>\n",
       "      <td>0.469</td>\n",
       "      <td>7.185</td>\n",
       "      <td>61.1</td>\n",
       "      <td>4.9671</td>\n",
       "      <td>2.0</td>\n",
       "      <td>242.0</td>\n",
       "      <td>17.8</td>\n",
       "      <td>392.83</td>\n",
       "      <td>4.03</td>\n",
       "      <td>34.7</td>\n",
       "    </tr>\n",
       "    <tr>\n",
       "      <th>3</th>\n",
       "      <td>0.03237</td>\n",
       "      <td>0.0</td>\n",
       "      <td>2.18</td>\n",
       "      <td>0.0</td>\n",
       "      <td>0.458</td>\n",
       "      <td>6.998</td>\n",
       "      <td>45.8</td>\n",
       "      <td>6.0622</td>\n",
       "      <td>3.0</td>\n",
       "      <td>222.0</td>\n",
       "      <td>18.7</td>\n",
       "      <td>394.63</td>\n",
       "      <td>2.94</td>\n",
       "      <td>33.4</td>\n",
       "    </tr>\n",
       "    <tr>\n",
       "      <th>4</th>\n",
       "      <td>0.06905</td>\n",
       "      <td>0.0</td>\n",
       "      <td>2.18</td>\n",
       "      <td>0.0</td>\n",
       "      <td>0.458</td>\n",
       "      <td>7.147</td>\n",
       "      <td>54.2</td>\n",
       "      <td>6.0622</td>\n",
       "      <td>3.0</td>\n",
       "      <td>222.0</td>\n",
       "      <td>18.7</td>\n",
       "      <td>396.90</td>\n",
       "      <td>5.33</td>\n",
       "      <td>36.2</td>\n",
       "    </tr>\n",
       "  </tbody>\n",
       "</table>\n",
       "</div>"
      ]
     },
     "execution_count": 5,
     "metadata": {},
     "output_type": "execute_result"
    }
   ],
   "execution_count": 5
  },
  {
   "metadata": {
    "ExecuteTime": {
     "end_time": "2024-11-04T17:19:04.189401Z",
     "start_time": "2024-11-04T17:19:04.184970Z"
    }
   },
   "cell_type": "code",
   "source": [
    "y_col = \"MEDV\"\n",
    "\n",
    "X = boston_data.drop(y_col, axis=1)\n",
    "y = boston_data[y_col]"
   ],
   "id": "50992f12aa151763",
   "outputs": [],
   "execution_count": 6
  },
  {
   "metadata": {},
   "cell_type": "markdown",
   "source": "# Scaling the X data",
   "id": "64bffcc21bd5083e"
  },
  {
   "metadata": {
    "ExecuteTime": {
     "end_time": "2024-11-04T17:19:29.091073Z",
     "start_time": "2024-11-04T17:19:28.959750Z"
    }
   },
   "cell_type": "code",
   "source": [
    "from sklearn.preprocessing import StandardScaler\n",
    "\n",
    "s = StandardScaler()\n",
    "X_ss = s.fit_transform(X)"
   ],
   "id": "d37ac0b861980a9d",
   "outputs": [],
   "execution_count": 7
  },
  {
   "metadata": {
    "ExecuteTime": {
     "end_time": "2024-11-04T17:19:33.216665Z",
     "start_time": "2024-11-04T17:19:33.213579Z"
    }
   },
   "cell_type": "code",
   "source": "X_ss",
   "id": "2c8ea4d0952091a2",
   "outputs": [
    {
     "data": {
      "text/plain": [
       "array([[-0.41771335,  0.28482986, -1.2879095 , ..., -1.45900038,\n",
       "         0.44105193, -1.0755623 ],\n",
       "       [-0.41526932, -0.48772236, -0.59338101, ..., -0.30309415,\n",
       "         0.44105193, -0.49243937],\n",
       "       [-0.41527165, -0.48772236, -0.59338101, ..., -0.30309415,\n",
       "         0.39642699, -1.2087274 ],\n",
       "       ...,\n",
       "       [-0.41137448, -0.48772236,  0.11573841, ...,  1.17646583,\n",
       "         0.44105193, -0.98304761],\n",
       "       [-0.40568883, -0.48772236,  0.11573841, ...,  1.17646583,\n",
       "         0.4032249 , -0.86530163],\n",
       "       [-0.41292893, -0.48772236,  0.11573841, ...,  1.17646583,\n",
       "         0.44105193, -0.66905833]])"
      ]
     },
     "execution_count": 8,
     "metadata": {},
     "output_type": "execute_result"
    }
   ],
   "execution_count": 8
  },
  {
   "metadata": {
    "ExecuteTime": {
     "end_time": "2024-11-04T17:21:43.712111Z",
     "start_time": "2024-11-04T17:21:43.707554Z"
    }
   },
   "cell_type": "code",
   "source": [
    "### Manually scaling the data and comparing with standard scaler\n",
    "X2 = np.array(X)\n",
    "man_transform = (X2-X2.mean(axis=0))/X2.std(axis=0)\n",
    "np.allclose(man_transform, X_ss)"
   ],
   "id": "21fe652ad1a05282",
   "outputs": [
    {
     "data": {
      "text/plain": [
       "True"
      ]
     },
     "execution_count": 10,
     "metadata": {},
     "output_type": "execute_result"
    }
   ],
   "execution_count": 10
  },
  {
   "metadata": {
    "ExecuteTime": {
     "end_time": "2024-11-04T17:22:55.470868Z",
     "start_time": "2024-11-04T17:22:55.221660Z"
    }
   },
   "cell_type": "code",
   "source": [
    "from sklearn.linear_model import LinearRegression\n",
    "\n",
    "# Fit the model with unscaled data\n",
    "lr = LinearRegression()\n",
    "lr.fit(X, y)\n",
    "print(lr.coef_)"
   ],
   "id": "53445db1bf964f71",
   "outputs": [
    {
     "name": "stdout",
     "output_type": "stream",
     "text": [
      "[-1.07170557e-01  4.63952195e-02  2.08602395e-02  2.68856140e+00\n",
      " -1.77957587e+01  3.80475246e+00  7.51061703e-04 -1.47575880e+00\n",
      "  3.05655038e-01 -1.23293463e-02 -9.53463555e-01  9.39251272e-03\n",
      " -5.25466633e-01]\n"
     ]
    }
   ],
   "execution_count": 11
  },
  {
   "metadata": {
    "ExecuteTime": {
     "end_time": "2024-11-04T17:26:31.816967Z",
     "start_time": "2024-11-04T17:26:31.812345Z"
    }
   },
   "cell_type": "code",
   "source": [
    "#Fit the model with scaled data\n",
    "\n",
    "lr_ss = LinearRegression()\n",
    "lr_ss.fit(X_ss, y)\n",
    "print(lr_ss.coef_)"
   ],
   "id": "9259bc6bcac28d9a",
   "outputs": [
    {
     "name": "stdout",
     "output_type": "stream",
     "text": [
      "[-0.92041113  1.08098058  0.14296712  0.68220346 -2.06009246  2.67064141\n",
      "  0.02112063 -3.10444805  2.65878654 -2.07589814 -2.06215593  0.85664044\n",
      " -3.74867982]\n"
     ]
    }
   ],
   "execution_count": 12
  },
  {
   "metadata": {
    "ExecuteTime": {
     "end_time": "2024-11-04T17:27:44.230656Z",
     "start_time": "2024-11-04T17:27:44.225052Z"
    }
   },
   "cell_type": "code",
   "source": "pd.DataFrame(zip(X.columns, lr_ss.coef_)).sort_values(by=1)",
   "id": "d8f18de68ad48c8e",
   "outputs": [
    {
     "data": {
      "text/plain": [
       "          0         1\n",
       "12    LSTAT -3.748680\n",
       "7       DIS -3.104448\n",
       "9       TAX -2.075898\n",
       "10  PTRATIO -2.062156\n",
       "4       NOX -2.060092\n",
       "0      CRIM -0.920411\n",
       "6       AGE  0.021121\n",
       "2     INDUS  0.142967\n",
       "3      CHAS  0.682203\n",
       "11        B  0.856640\n",
       "1        ZN  1.080981\n",
       "8       RAD  2.658787\n",
       "5        RM  2.670641"
      ],
      "text/html": [
       "<div>\n",
       "<style scoped>\n",
       "    .dataframe tbody tr th:only-of-type {\n",
       "        vertical-align: middle;\n",
       "    }\n",
       "\n",
       "    .dataframe tbody tr th {\n",
       "        vertical-align: top;\n",
       "    }\n",
       "\n",
       "    .dataframe thead th {\n",
       "        text-align: right;\n",
       "    }\n",
       "</style>\n",
       "<table border=\"1\" class=\"dataframe\">\n",
       "  <thead>\n",
       "    <tr style=\"text-align: right;\">\n",
       "      <th></th>\n",
       "      <th>0</th>\n",
       "      <th>1</th>\n",
       "    </tr>\n",
       "  </thead>\n",
       "  <tbody>\n",
       "    <tr>\n",
       "      <th>12</th>\n",
       "      <td>LSTAT</td>\n",
       "      <td>-3.748680</td>\n",
       "    </tr>\n",
       "    <tr>\n",
       "      <th>7</th>\n",
       "      <td>DIS</td>\n",
       "      <td>-3.104448</td>\n",
       "    </tr>\n",
       "    <tr>\n",
       "      <th>9</th>\n",
       "      <td>TAX</td>\n",
       "      <td>-2.075898</td>\n",
       "    </tr>\n",
       "    <tr>\n",
       "      <th>10</th>\n",
       "      <td>PTRATIO</td>\n",
       "      <td>-2.062156</td>\n",
       "    </tr>\n",
       "    <tr>\n",
       "      <th>4</th>\n",
       "      <td>NOX</td>\n",
       "      <td>-2.060092</td>\n",
       "    </tr>\n",
       "    <tr>\n",
       "      <th>0</th>\n",
       "      <td>CRIM</td>\n",
       "      <td>-0.920411</td>\n",
       "    </tr>\n",
       "    <tr>\n",
       "      <th>6</th>\n",
       "      <td>AGE</td>\n",
       "      <td>0.021121</td>\n",
       "    </tr>\n",
       "    <tr>\n",
       "      <th>2</th>\n",
       "      <td>INDUS</td>\n",
       "      <td>0.142967</td>\n",
       "    </tr>\n",
       "    <tr>\n",
       "      <th>3</th>\n",
       "      <td>CHAS</td>\n",
       "      <td>0.682203</td>\n",
       "    </tr>\n",
       "    <tr>\n",
       "      <th>11</th>\n",
       "      <td>B</td>\n",
       "      <td>0.856640</td>\n",
       "    </tr>\n",
       "    <tr>\n",
       "      <th>1</th>\n",
       "      <td>ZN</td>\n",
       "      <td>1.080981</td>\n",
       "    </tr>\n",
       "    <tr>\n",
       "      <th>8</th>\n",
       "      <td>RAD</td>\n",
       "      <td>2.658787</td>\n",
       "    </tr>\n",
       "    <tr>\n",
       "      <th>5</th>\n",
       "      <td>RM</td>\n",
       "      <td>2.670641</td>\n",
       "    </tr>\n",
       "  </tbody>\n",
       "</table>\n",
       "</div>"
      ]
     },
     "execution_count": 13,
     "metadata": {},
     "output_type": "execute_result"
    }
   ],
   "execution_count": 13
  },
  {
   "metadata": {},
   "cell_type": "markdown",
   "source": [
    "# Look at above's values:\n",
    "A *high negative* value means that the prediction will *decrease* as the feature value increases\n",
    "A *high positive* value means that the prediction will *increase* as the feature value increases  \n",
    "In this case, coefficients LSTAT(-), DIS(-), RM(+) and RAD(+) are all the 'most impactful' features"
   ],
   "id": "f081d8becce95389"
  },
  {
   "metadata": {
    "ExecuteTime": {
     "end_time": "2024-11-04T19:14:48.504143Z",
     "start_time": "2024-11-04T19:14:48.498420Z"
    }
   },
   "cell_type": "code",
   "source": [
    "from sklearn.linear_model import Lasso\n",
    "from sklearn.preprocessing import PolynomialFeatures\n",
    "\n",
    "# Create polynomial features\n",
    "pf = PolynomialFeatures(degree=2, include_bias=False,)\n",
    "X_pf = pf.fit_transform(X)"
   ],
   "id": "a08474c146b1408c",
   "outputs": [],
   "execution_count": 17
  },
  {
   "metadata": {
    "ExecuteTime": {
     "end_time": "2024-11-04T19:15:05.207741Z",
     "start_time": "2024-11-04T19:15:05.201709Z"
    }
   },
   "cell_type": "code",
   "source": [
    "# Standardize the polynomial features\n",
    "X_pf_ss = s.fit_transform(X_pf)"
   ],
   "id": "69ac907e06563e29",
   "outputs": [],
   "execution_count": 18
  },
  {
   "metadata": {
    "ExecuteTime": {
     "end_time": "2024-11-04T19:16:03.029586Z",
     "start_time": "2024-11-04T19:16:03.020099Z"
    }
   },
   "cell_type": "code",
   "source": [
    "las = Lasso()\n",
    "las.fit(X_pf_ss, y)\n",
    "las.coef_ "
   ],
   "id": "c795ff0b0786ab17",
   "outputs": [
    {
     "data": {
      "text/plain": [
       "array([-0.        ,  0.        , -0.        ,  0.        , -0.        ,\n",
       "        0.        , -0.        , -0.        , -0.        , -0.        ,\n",
       "       -0.99073506,  0.        , -0.        , -0.        ,  0.        ,\n",
       "       -0.        ,  0.06751971, -0.        , -0.        , -0.        ,\n",
       "       -0.        , -0.        , -0.        , -0.        , -0.        ,\n",
       "       -0.        ,  0.        ,  0.        ,  0.        ,  0.        ,\n",
       "        0.        ,  0.        ,  0.        ,  0.        ,  0.        ,\n",
       "        0.        ,  0.        ,  0.        , -0.        ,  0.        ,\n",
       "       -0.        , -0.        , -0.        , -0.05012402, -0.        ,\n",
       "       -0.        , -0.        , -0.        , -0.        ,  0.        ,\n",
       "        0.        ,  0.        ,  0.        ,  0.        ,  0.        ,\n",
       "        0.        ,  0.        ,  0.        ,  0.        , -0.        ,\n",
       "       -0.        , -0.        , -0.        , -0.        , -0.        ,\n",
       "       -0.        ,  0.        , -0.        ,  3.30027884, -0.        ,\n",
       "       -0.        , -0.        , -0.        , -0.        ,  0.42003516,\n",
       "       -3.49770286, -0.        , -0.        , -0.        , -0.        ,\n",
       "       -0.        ,  0.        , -0.        , -0.        , -0.        ,\n",
       "       -0.14600958, -0.        , -0.        , -0.        , -0.        ,\n",
       "       -0.        , -0.        , -0.        , -0.        , -0.        ,\n",
       "       -0.        , -0.        , -0.        , -0.        ,  0.        ,\n",
       "       -0.        ,  0.        , -0.        , -0.        ])"
      ]
     },
     "execution_count": 19,
     "metadata": {},
     "output_type": "execute_result"
    }
   ],
   "execution_count": 19
  },
  {
   "metadata": {
    "ExecuteTime": {
     "end_time": "2024-11-04T19:16:47.915367Z",
     "start_time": "2024-11-04T19:16:47.899485Z"
    }
   },
   "cell_type": "code",
   "source": [
    "las01 = Lasso(alpha = 0.1)\n",
    "las01.fit(X_pf_ss, y)\n",
    "print('sum of coefficients:', abs(las01.coef_).sum() )\n",
    "print('number of coefficients not equal to 0:', (las01.coef_!=0).sum())"
   ],
   "id": "8cdcb3a388cca2ce",
   "outputs": [
    {
     "name": "stdout",
     "output_type": "stream",
     "text": [
      "sum of coefficients: 26.17241511542675\n",
      "number of coefficients not equal to 0: 23\n"
     ]
    }
   ],
   "execution_count": 20
  },
  {
   "metadata": {
    "ExecuteTime": {
     "end_time": "2024-11-04T19:17:07.031346Z",
     "start_time": "2024-11-04T19:17:07.023779Z"
    }
   },
   "cell_type": "code",
   "source": [
    "las1 = Lasso(alpha = 1)\n",
    "las1.fit(X_pf_ss, y)\n",
    "print('sum of coefficients:',abs(las1.coef_).sum() )\n",
    "print('number of coefficients not equal to 0:',(las1.coef_!=0).sum())"
   ],
   "id": "8367e12a38de5abd",
   "outputs": [
    {
     "name": "stdout",
     "output_type": "stream",
     "text": [
      "sum of coefficients: 8.472405227760158\n",
      "number of coefficients not equal to 0: 7\n"
     ]
    }
   ],
   "execution_count": 21
  },
  {
   "metadata": {
    "ExecuteTime": {
     "end_time": "2024-11-04T19:18:01.057378Z",
     "start_time": "2024-11-04T19:18:01.052016Z"
    }
   },
   "cell_type": "code",
   "source": [
    "from sklearn.metrics import r2_score\n",
    "\n",
    "r2_score(y,las.predict(X_pf_ss))"
   ],
   "id": "8cc6aa58e62b33d6",
   "outputs": [
    {
     "data": {
      "text/plain": [
       "0.7207000461229027"
      ]
     },
     "execution_count": 22,
     "metadata": {},
     "output_type": "execute_result"
    }
   ],
   "execution_count": 22
  },
  {
   "metadata": {
    "ExecuteTime": {
     "end_time": "2024-11-04T19:18:36.457758Z",
     "start_time": "2024-11-04T19:18:36.452161Z"
    }
   },
   "cell_type": "code",
   "source": [
    "from sklearn.model_selection import train_test_split\n",
    "X_train, X_test, y_train, y_test = train_test_split(X_pf, y, test_size=0.3, random_state=72018)"
   ],
   "id": "93c1e3df3620cb1d",
   "outputs": [],
   "execution_count": 24
  },
  {
   "metadata": {
    "ExecuteTime": {
     "end_time": "2024-11-04T19:18:41.906194Z",
     "start_time": "2024-11-04T19:18:41.900588Z"
    }
   },
   "cell_type": "code",
   "source": [
    "X_train_s = s.fit_transform(X_train)\n",
    "las.fit(X_train_s, y_train)\n",
    "X_test_s = s.transform(X_test)\n",
    "y_pred = las.predict(X_test_s)\n",
    "r2_score(y_test, y_pred)"
   ],
   "id": "b9c02fe06039f984",
   "outputs": [
    {
     "data": {
      "text/plain": [
       "0.6780325981174931"
      ]
     },
     "execution_count": 25,
     "metadata": {},
     "output_type": "execute_result"
    }
   ],
   "execution_count": 25
  },
  {
   "metadata": {
    "ExecuteTime": {
     "end_time": "2024-11-04T19:19:14.804414Z",
     "start_time": "2024-11-04T19:19:14.789611Z"
    }
   },
   "cell_type": "code",
   "source": [
    "X_train_s = s.fit_transform(X_train)\n",
    "las01.fit(X_train_s, y_train)\n",
    "X_test_s = s.transform(X_test)\n",
    "y_pred = las01.predict(X_test_s)\n",
    "r2_score(y_test, y_pred)"
   ],
   "id": "f9dccd92f441f957",
   "outputs": [
    {
     "data": {
      "text/plain": [
       "0.7999261342846063"
      ]
     },
     "execution_count": 26,
     "metadata": {},
     "output_type": "execute_result"
    }
   ],
   "execution_count": 26
  },
  {
   "metadata": {},
   "cell_type": "markdown",
   "source": "# Now using Lasso with alpha = 0.001",
   "id": "4c8815b0cc97e6e3"
  },
  {
   "metadata": {
    "ExecuteTime": {
     "end_time": "2024-11-04T19:22:04.307218Z",
     "start_time": "2024-11-04T19:22:02.273962Z"
    }
   },
   "cell_type": "code",
   "source": [
    "las001 = Lasso(alpha = 0.001, max_iter=100000)\n",
    "las001.fit(X_train_s, y_train)\n",
    "y_pred = las001.predict(X_test_s)\n",
    "r2_score(y_test, y_pred)"
   ],
   "id": "b6e57016b9adda6e",
   "outputs": [
    {
     "data": {
      "text/plain": [
       "0.8847893236874582"
      ]
     },
     "execution_count": 28,
     "metadata": {},
     "output_type": "execute_result"
    }
   ],
   "execution_count": 28
  },
  {
   "metadata": {
    "ExecuteTime": {
     "end_time": "2024-11-04T19:28:45.338779Z",
     "start_time": "2024-11-04T19:28:45.286236Z"
    }
   },
   "cell_type": "code",
   "source": [
    "lr = LinearRegression()\n",
    "lr.fit(X_train, y_train)\n",
    "y_pred = lr.predict(X_test)\n",
    "r2_score(y_test, y_pred)"
   ],
   "id": "7613365e53061a08",
   "outputs": [
    {
     "data": {
      "text/plain": [
       "0.8689110469284284"
      ]
     },
     "execution_count": 35,
     "metadata": {},
     "output_type": "execute_result"
    }
   ],
   "execution_count": 35
  },
  {
   "metadata": {},
   "cell_type": "markdown",
   "source": "Comparing the coefficients of Lasso with alpha = 0.001 and Linear Regression",
   "id": "ff17e00402b16d34"
  },
  {
   "metadata": {
    "ExecuteTime": {
     "end_time": "2024-11-04T19:28:00.868328Z",
     "start_time": "2024-11-04T19:28:00.865402Z"
    }
   },
   "cell_type": "code",
   "source": [
    "print(f\"-------Lasso model---------\")\n",
    "print(f\"Sum of coefficients: {abs(las001.coef_).sum()}\")\n",
    "print(f\"Number of coefficients non-zero: {(las001.coef_!=0).sum()}\")\n",
    "print(f\"-------Linear Regression model---------\")\n",
    "print(f\"Sum of coefficients: {abs(lr.coef_).sum()}\")\n",
    "print(f\"Number of coefficients non-zero: {(lr.coef_!=0).sum()}\")"
   ],
   "id": "5d24dcc8f6c8c3a2",
   "outputs": [
    {
     "name": "stdout",
     "output_type": "stream",
     "text": [
      "-------Lasso model---------\n",
      "Sum of coefficients: 435.57232290441243\n",
      "Number of coefficients non-zero: 90\n",
      "-------Linear Regression model---------\n",
      "Sum of coefficients: 309.88577748756705\n",
      "Number of coefficients non-zero: 104\n"
     ]
    }
   ],
   "execution_count": 33
  },
  {
   "metadata": {},
   "cell_type": "markdown",
   "source": "# Using Ridge regression",
   "id": "8e0a7ce898fa459b"
  },
  {
   "metadata": {
    "ExecuteTime": {
     "end_time": "2024-11-04T19:33:50.009472Z",
     "start_time": "2024-11-04T19:33:50.003130Z"
    }
   },
   "cell_type": "code",
   "source": [
    "from sklearn.linear_model import Ridge\n",
    "\n",
    "r = Ridge(alpha=0.001)\n",
    "X_train_s = s.fit_transform(X_train)\n",
    "r.fit(X_train_s, y_train)\n",
    "X_test_s = s.transform(X_test)\n",
    "y_pred_r = r.predict(X_test_s)\n",
    "\n",
    "print(f\"Prediction value Ridge regression: {r2_score(y_test, y_pred_r)}\")\n",
    "\n",
    "r.coef_"
   ],
   "id": "67d3dc0a3de7b74a",
   "outputs": [
    {
     "name": "stdout",
     "output_type": "stream",
     "text": [
      "Prediction value Ridge regression: 0.8702996266543306\n"
     ]
    },
    {
     "data": {
      "text/plain": [
       "array([  7.69158031,   9.88890473, -25.00525751,   5.31046818,\n",
       "        -2.60993702,  14.95803313,  22.31375473, -22.8579177 ,\n",
       "        27.76499232,  -1.56512089,  17.07749893,  21.85840549,\n",
       "        11.57430607,   1.0501267 ,   0.43058525,  13.78571185,\n",
       "         1.8138621 ,  -8.34497303,   4.99428114,  -3.56428247,\n",
       "        -3.43620979, -16.33550823,  -7.04652168,   6.60858547,\n",
       "        -1.47661   ,   4.68585754,  -1.30404236,  -0.05944784,\n",
       "        -0.30379373, -12.84226172,   1.97669113,   1.08130677,\n",
       "        -0.67550448,  -1.07931934,   4.49162494,  -4.26689794,\n",
       "         4.67486611,  -1.28089201,   8.66602804,  -0.27373083,\n",
       "        -8.11960573,  11.78297941,   6.53845776,   1.32299881,\n",
       "         2.05956326,   0.89895643,   1.7894665 ,   4.74421976,\n",
       "        -4.66441531,   5.31046818,  -3.23646667,  -8.66803392,\n",
       "         0.97293208,   1.13586914,   0.29037187,  -1.63142731,\n",
       "        -2.92599804,   2.92315095,  -0.73510358,  11.89603615,\n",
       "         0.75403388,  -7.53119729,  18.30567198, -22.16809127,\n",
       "        35.6511429 , -22.38147512,  -7.37805787,   1.73161223,\n",
       "         4.06783879, -12.25400704,  -3.7205649 ,  -5.53714787,\n",
       "       -16.16852126,  -5.87194281,  -4.51530965,  -9.90306269,\n",
       "         0.94154775,  -0.09527988,  17.17999006, -14.26825667,\n",
       "        -2.90436315,  -2.82418895,  -5.41771819,  11.90786565,\n",
       "         0.06464714,  -4.4327351 ,  -5.6787619 ,  -3.51462525,\n",
       "         0.82200331, -29.08179429,  49.34519358, -21.72034431,\n",
       "        -1.4276628 ,  -8.86435308, -15.68192195,  11.98178941,\n",
       "        -0.81828176,   2.92403392,  -0.70149242,  -4.37481606,\n",
       "         2.71199687,  -2.48039401,  -2.38240974,   1.7070104 ])"
      ]
     },
     "execution_count": 37,
     "metadata": {},
     "output_type": "execute_result"
    }
   ],
   "execution_count": 37
  },
  {
   "metadata": {},
   "cell_type": "markdown",
   "source": "**Note**: Ridge doesn't zero out coefficients",
   "id": "b6c2a7bdda71d8ff"
  },
  {
   "metadata": {
    "ExecuteTime": {
     "end_time": "2024-11-04T19:35:16.965620Z",
     "start_time": "2024-11-04T19:35:16.961365Z"
    }
   },
   "cell_type": "code",
   "source": [
    "y_pred = r.predict(X_pf_ss)\n",
    "print(r2_score(y, y_pred))\n",
    "\n",
    "# Lasso performs better than Ridge in this case\n",
    "y_pred = las001.predict(X_pf_ss)\n",
    "print(r2_score(y, y_pred))"
   ],
   "id": "76e027835bad9870",
   "outputs": [
    {
     "name": "stdout",
     "output_type": "stream",
     "text": [
      "0.9076091395031437\n",
      "0.9103503442034482\n"
     ]
    }
   ],
   "execution_count": 39
  },
  {
   "metadata": {},
   "cell_type": "code",
   "outputs": [],
   "execution_count": null,
   "source": "",
   "id": "b8c98a4a97a69046"
  }
 ],
 "metadata": {
  "kernelspec": {
   "display_name": "Python 3",
   "language": "python",
   "name": "python3"
  },
  "language_info": {
   "codemirror_mode": {
    "name": "ipython",
    "version": 2
   },
   "file_extension": ".py",
   "mimetype": "text/x-python",
   "name": "python",
   "nbconvert_exporter": "python",
   "pygments_lexer": "ipython2",
   "version": "2.7.6"
  }
 },
 "nbformat": 4,
 "nbformat_minor": 5
}
